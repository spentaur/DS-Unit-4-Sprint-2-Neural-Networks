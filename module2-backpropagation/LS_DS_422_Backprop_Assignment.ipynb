{
 "cells": [
  {
   "cell_type": "markdown",
   "metadata": {
    "colab_type": "text",
    "id": "NGGrt9EYlCqY"
   },
   "source": [
    "<img align=\"left\" src=\"https://lever-client-logos.s3.amazonaws.com/864372b1-534c-480e-acd5-9711f850815c-1524247202159.png\" width=200>\n",
    "<br></br>\n",
    "\n",
    "# Backpropagation Practice\n",
    "\n",
    "## *Data Science Unit 4 Sprint 2 Assignment 2*\n",
    "\n",
    "Implement a 3 input, 4 node hidden-layer, 1 output node Multilayer Perceptron on the following dataset:\n",
    "\n",
    "| x1 | x2 | x3 | y |\n",
    "|----|----|----|---|\n",
    "| 0  | 0  | 1  | 0 |\n",
    "| 0  | 1  | 1  | 1 |\n",
    "| 1  | 0  | 1  | 1 |\n",
    "| 0  | 1  | 0  | 1 |\n",
    "| 1  | 0  | 0  | 1 |\n",
    "| 1  | 1  | 1  | 0 |\n",
    "| 0  | 0  | 0  | 0 |\n",
    "\n",
    "If you look at the data you'll notice that the first two columns behave like an XOR gate while the last column is mostly just noise. Remember that creating an XOR gate was what the perceptron was criticized for not being able to learn. "
   ]
  },
  {
   "cell_type": "code",
   "execution_count": 1,
   "metadata": {
    "colab": {},
    "colab_type": "code",
    "id": "nEREYT-3wI1f"
   },
   "outputs": [],
   "source": [
    "# normalize\n",
    "# weights\n",
    "# feed forward\n",
    "# predict\n",
    "# calc error\n",
    "# back prop\n",
    "# update weights based on gradient\n",
    "# feed forward ..."
   ]
  },
  {
   "cell_type": "code",
   "execution_count": 20,
   "metadata": {},
   "outputs": [],
   "source": [
    "import numpy as np\n",
    "from sklearn.preprocessing import MinMaxScaler\n",
    "\n",
    "class NeuralNet:\n",
    "    def __init__(self, hidden_layers=1, epochs = 1000, verbose = 10, normalize = True):\n",
    "        self.hidden_layers = hidden_layers\n",
    "        self.input_scaler = MinMaxScaler()\n",
    "        self.output_scaler = MinMaxScaler()\n",
    "        self.epochs = epochs\n",
    "        self.verbose = verbose\n",
    "        self.normalize = normalize\n",
    "        np.random.seed(420)\n",
    "        \n",
    "    def sigmoid(self, s):\n",
    "        return 1 / (1+np.exp(-s))\n",
    "    \n",
    "    def sigmoidPrime(self, s):\n",
    "        return s * (1 - s)\n",
    "    \n",
    "    def normalize_data(self):\n",
    "        self.norm_input = self.input_scaler.fit_transform(self.input)\n",
    "        self.norm_output = self.output_scaler.fit_transform(self.output)\n",
    "    \n",
    "    def assign_output_nodes(self):\n",
    "        self.output_nodes = self.output.shape[1]\n",
    "        \n",
    "    def assign_input_nodes(self):\n",
    "        self.input_nodes = self.input.shape[1]\n",
    "        \n",
    "    def assign_hidden_nodes(self):\n",
    "        self.hidden_nodes = self.input.shape[1] + 1\n",
    "        \n",
    "    def assign_weights(self):\n",
    "        weights = []\n",
    "        for ii in range(self.hidden_layers + 1):\n",
    "            if ii == 0:\n",
    "                # input to first hidden\n",
    "                weights.append(np.random.rand(\n",
    "                    self.input_nodes,\n",
    "                    self.hidden_nodes\n",
    "                ))\n",
    "            elif ii == self.hidden_layers:\n",
    "                # hidden to output layer\n",
    "                weights.append(np.random.rand(\n",
    "                    self.hidden_nodes,\n",
    "                    self.output_nodes\n",
    "                ))\n",
    "            else:\n",
    "                # hidden layers\n",
    "                weights.append(np.random.rand(\n",
    "                    self.hidden_nodes,\n",
    "                    self.hidden_nodes\n",
    "                ))\n",
    "        self.weights = weights  \n",
    "            \n",
    "    def assign_all(self):\n",
    "        self.assign_output_nodes()\n",
    "        self.assign_input_nodes()\n",
    "        self.assign_hidden_nodes()\n",
    "        self.assign_weights()\n",
    "        \n",
    "    def feed_forward(self, inputs=None):\n",
    "        if not inputs:\n",
    "            inputs = self.input\n",
    "        # TODO add hidden layers\n",
    "        self.hidden_sum = np.dot(inputs, self.weights[0])\n",
    "        self.activated_hidden = self.sigmoid(self.hidden_sum)\n",
    "        self.output_sum = np.dot(self.activated_hidden, self.weights[1])\n",
    "        self.activated_output = self.sigmoid(self.output_sum)\n",
    "        \n",
    "        return self.activated_output\n",
    "    \n",
    "    def backward(self, output):\n",
    "        # TODO add hidden layers\n",
    "        self.output_error = self.output - output\n",
    "        self.output_delta = self.output_error * self.sigmoidPrime(output)\n",
    "        \n",
    "        self.z2_error = self.output_delta.dot(self.weights[1].T)\n",
    "        self.z2_delta = self.z2_error * self.sigmoidPrime(self.activated_hidden)\n",
    "        \n",
    "        self.weights[0] += self.input.T.dot(self.z2_delta)\n",
    "        self.weights[1] += self.activated_hidden.T.dot(self.output_delta)\n",
    "                \n",
    "    def fit(self, inputs, outputs):\n",
    "        # TODO validation\n",
    "        self.input = inputs\n",
    "        self.output = outputs\n",
    "        \n",
    "        if self.normalize:\n",
    "            self.normalize_data()\n",
    "        \n",
    "        self.assign_all()\n",
    "        \n",
    "        for ii in range(self.epochs):\n",
    "            output = self.feed_forward()\n",
    "            self.backward(output)\n",
    "            if self.verbose and ((ii + 1) % self.verbose == 0 or ii == 0):\n",
    "                print('+' + '---' * 3 + f'EPOCH {ii+1}' + '---'*3 + '+')\n",
    "#                 print('Actual Output: \\n', self.output)\n",
    "#                 print('Predicted Output: \\n', str(self.activated_output))\n",
    "                print(\"Loss: \\n\", str(\n",
    "                    np.mean(np.square(\n",
    "                        self.output - self.activated_output\n",
    "                    ))))\n",
    "    \n",
    "    def predict(self, pred_inputs):\n",
    "        pred_outputs = self.feed_forward(pred_inputs)\n",
    "        return (pred_outputs >= 0.5).astype(int)\n",
    "        \n",
    "        "
   ]
  },
  {
   "cell_type": "code",
   "execution_count": 21,
   "metadata": {},
   "outputs": [],
   "source": [
    "nn = NeuralNet(epochs = 100000, verbose = 50000)"
   ]
  },
  {
   "cell_type": "code",
   "execution_count": 22,
   "metadata": {},
   "outputs": [],
   "source": [
    "X = np.array([\n",
    "    [0,0,1],\n",
    "    [0,1,1],\n",
    "    [1,0,1],\n",
    "    [0,1,0],\n",
    "    [1,0,0],\n",
    "    [1,1,1],\n",
    "    [0,0,0],\n",
    "])\n",
    "y = np.array([\n",
    "    [0],\n",
    "    [1],\n",
    "    [1],\n",
    "    [1],\n",
    "    [1],\n",
    "    [0],\n",
    "    [0],\n",
    "])"
   ]
  },
  {
   "cell_type": "code",
   "execution_count": 23,
   "metadata": {},
   "outputs": [
    {
     "name": "stdout",
     "output_type": "stream",
     "text": [
      "+---------EPOCH 1---------+\n",
      "Loss: \n",
      " 0.25510940810827515\n",
      "+---------EPOCH 50000---------+\n",
      "Loss: \n",
      " 4.19336086550674e-05\n",
      "+---------EPOCH 100000---------+\n",
      "Loss: \n",
      " 2.0919036186901414e-05\n"
     ]
    }
   ],
   "source": [
    "nn.fit(X, y)"
   ]
  },
  {
   "cell_type": "code",
   "execution_count": 24,
   "metadata": {},
   "outputs": [],
   "source": [
    "import pandas as pd"
   ]
  },
  {
   "cell_type": "code",
   "execution_count": 25,
   "metadata": {},
   "outputs": [],
   "source": [
    "titanic = pd.read_csv('train.csv')"
   ]
  },
  {
   "cell_type": "code",
   "execution_count": 26,
   "metadata": {},
   "outputs": [
    {
     "name": "stdout",
     "output_type": "stream",
     "text": [
      "(891, 12)\n"
     ]
    },
    {
     "data": {
      "text/html": [
       "<div>\n",
       "<style scoped>\n",
       "    .dataframe tbody tr th:only-of-type {\n",
       "        vertical-align: middle;\n",
       "    }\n",
       "\n",
       "    .dataframe tbody tr th {\n",
       "        vertical-align: top;\n",
       "    }\n",
       "\n",
       "    .dataframe thead th {\n",
       "        text-align: right;\n",
       "    }\n",
       "</style>\n",
       "<table border=\"1\" class=\"dataframe\">\n",
       "  <thead>\n",
       "    <tr style=\"text-align: right;\">\n",
       "      <th></th>\n",
       "      <th>PassengerId</th>\n",
       "      <th>Survived</th>\n",
       "      <th>Pclass</th>\n",
       "      <th>Name</th>\n",
       "      <th>Sex</th>\n",
       "      <th>Age</th>\n",
       "      <th>SibSp</th>\n",
       "      <th>Parch</th>\n",
       "      <th>Ticket</th>\n",
       "      <th>Fare</th>\n",
       "      <th>Cabin</th>\n",
       "      <th>Embarked</th>\n",
       "    </tr>\n",
       "  </thead>\n",
       "  <tbody>\n",
       "    <tr>\n",
       "      <th>0</th>\n",
       "      <td>1</td>\n",
       "      <td>0</td>\n",
       "      <td>3</td>\n",
       "      <td>Braund, Mr. Owen Harris</td>\n",
       "      <td>male</td>\n",
       "      <td>22.0</td>\n",
       "      <td>1</td>\n",
       "      <td>0</td>\n",
       "      <td>A/5 21171</td>\n",
       "      <td>7.2500</td>\n",
       "      <td>NaN</td>\n",
       "      <td>S</td>\n",
       "    </tr>\n",
       "    <tr>\n",
       "      <th>1</th>\n",
       "      <td>2</td>\n",
       "      <td>1</td>\n",
       "      <td>1</td>\n",
       "      <td>Cumings, Mrs. John Bradley (Florence Briggs Th...</td>\n",
       "      <td>female</td>\n",
       "      <td>38.0</td>\n",
       "      <td>1</td>\n",
       "      <td>0</td>\n",
       "      <td>PC 17599</td>\n",
       "      <td>71.2833</td>\n",
       "      <td>C85</td>\n",
       "      <td>C</td>\n",
       "    </tr>\n",
       "    <tr>\n",
       "      <th>2</th>\n",
       "      <td>3</td>\n",
       "      <td>1</td>\n",
       "      <td>3</td>\n",
       "      <td>Heikkinen, Miss. Laina</td>\n",
       "      <td>female</td>\n",
       "      <td>26.0</td>\n",
       "      <td>0</td>\n",
       "      <td>0</td>\n",
       "      <td>STON/O2. 3101282</td>\n",
       "      <td>7.9250</td>\n",
       "      <td>NaN</td>\n",
       "      <td>S</td>\n",
       "    </tr>\n",
       "    <tr>\n",
       "      <th>3</th>\n",
       "      <td>4</td>\n",
       "      <td>1</td>\n",
       "      <td>1</td>\n",
       "      <td>Futrelle, Mrs. Jacques Heath (Lily May Peel)</td>\n",
       "      <td>female</td>\n",
       "      <td>35.0</td>\n",
       "      <td>1</td>\n",
       "      <td>0</td>\n",
       "      <td>113803</td>\n",
       "      <td>53.1000</td>\n",
       "      <td>C123</td>\n",
       "      <td>S</td>\n",
       "    </tr>\n",
       "    <tr>\n",
       "      <th>4</th>\n",
       "      <td>5</td>\n",
       "      <td>0</td>\n",
       "      <td>3</td>\n",
       "      <td>Allen, Mr. William Henry</td>\n",
       "      <td>male</td>\n",
       "      <td>35.0</td>\n",
       "      <td>0</td>\n",
       "      <td>0</td>\n",
       "      <td>373450</td>\n",
       "      <td>8.0500</td>\n",
       "      <td>NaN</td>\n",
       "      <td>S</td>\n",
       "    </tr>\n",
       "  </tbody>\n",
       "</table>\n",
       "</div>"
      ],
      "text/plain": [
       "   PassengerId  Survived  Pclass  \\\n",
       "0            1         0       3   \n",
       "1            2         1       1   \n",
       "2            3         1       3   \n",
       "3            4         1       1   \n",
       "4            5         0       3   \n",
       "\n",
       "                                                Name     Sex   Age  SibSp  \\\n",
       "0                            Braund, Mr. Owen Harris    male  22.0      1   \n",
       "1  Cumings, Mrs. John Bradley (Florence Briggs Th...  female  38.0      1   \n",
       "2                             Heikkinen, Miss. Laina  female  26.0      0   \n",
       "3       Futrelle, Mrs. Jacques Heath (Lily May Peel)  female  35.0      1   \n",
       "4                           Allen, Mr. William Henry    male  35.0      0   \n",
       "\n",
       "   Parch            Ticket     Fare Cabin Embarked  \n",
       "0      0         A/5 21171   7.2500   NaN        S  \n",
       "1      0          PC 17599  71.2833   C85        C  \n",
       "2      0  STON/O2. 3101282   7.9250   NaN        S  \n",
       "3      0            113803  53.1000  C123        S  \n",
       "4      0            373450   8.0500   NaN        S  "
      ]
     },
     "execution_count": 26,
     "metadata": {},
     "output_type": "execute_result"
    }
   ],
   "source": [
    "print(titanic.shape)\n",
    "titanic.head()"
   ]
  },
  {
   "cell_type": "code",
   "execution_count": 27,
   "metadata": {},
   "outputs": [],
   "source": [
    "y = titanic['Survived'].values.reshape(-1, 1)"
   ]
  },
  {
   "cell_type": "code",
   "execution_count": 28,
   "metadata": {},
   "outputs": [],
   "source": [
    "features = ['Pclass', 'SibSp', 'Parch', 'Fare']\n",
    "X = titanic[features].values"
   ]
  },
  {
   "cell_type": "code",
   "execution_count": 29,
   "metadata": {},
   "outputs": [],
   "source": [
    "nn = NeuralNet(epochs = 10000, verbose = 500)"
   ]
  },
  {
   "cell_type": "code",
   "execution_count": 30,
   "metadata": {},
   "outputs": [
    {
     "name": "stdout",
     "output_type": "stream",
     "text": [
      "+---------EPOCH 1---------+\n",
      "Loss: \n",
      " 0.508956905166524\n",
      "+---------EPOCH 500---------+\n",
      "Loss: \n",
      " 0.3838383838383838\n",
      "+---------EPOCH 1000---------+\n",
      "Loss: \n",
      " 0.3838383838383838\n"
     ]
    },
    {
     "name": "stderr",
     "output_type": "stream",
     "text": [
      "/Users/spentaur/.local/share/virtualenvs/lambda-e5gwxZ0x/lib/python3.7/site-packages/ipykernel_launcher.py:15: RuntimeWarning: overflow encountered in exp\n",
      "  from ipykernel import kernelapp as app\n"
     ]
    },
    {
     "name": "stdout",
     "output_type": "stream",
     "text": [
      "+---------EPOCH 1500---------+\n",
      "Loss: \n",
      " 0.3838383838383838\n",
      "+---------EPOCH 2000---------+\n",
      "Loss: \n",
      " 0.3838383838383838\n",
      "+---------EPOCH 2500---------+\n",
      "Loss: \n",
      " 0.3838383838383838\n",
      "+---------EPOCH 3000---------+\n",
      "Loss: \n",
      " 0.3838383838383838\n",
      "+---------EPOCH 3500---------+\n",
      "Loss: \n",
      " 0.3838383838383838\n",
      "+---------EPOCH 4000---------+\n",
      "Loss: \n",
      " 0.3838383838383838\n",
      "+---------EPOCH 4500---------+\n",
      "Loss: \n",
      " 0.3838383838383838\n",
      "+---------EPOCH 5000---------+\n",
      "Loss: \n",
      " 0.3838383838383838\n",
      "+---------EPOCH 5500---------+\n",
      "Loss: \n",
      " 0.3838383838383838\n",
      "+---------EPOCH 6000---------+\n",
      "Loss: \n",
      " 0.3838383838383838\n",
      "+---------EPOCH 6500---------+\n",
      "Loss: \n",
      " 0.3838383838383838\n",
      "+---------EPOCH 7000---------+\n",
      "Loss: \n",
      " 0.3838383838383838\n",
      "+---------EPOCH 7500---------+\n",
      "Loss: \n",
      " 0.3838383838383838\n",
      "+---------EPOCH 8000---------+\n",
      "Loss: \n",
      " 0.3838383838383838\n",
      "+---------EPOCH 8500---------+\n",
      "Loss: \n",
      " 0.3838383838383838\n",
      "+---------EPOCH 9000---------+\n",
      "Loss: \n",
      " 0.3838383838383838\n",
      "+---------EPOCH 9500---------+\n",
      "Loss: \n",
      " 0.3838383838383838\n",
      "+---------EPOCH 10000---------+\n",
      "Loss: \n",
      " 0.3838383838383838\n"
     ]
    }
   ],
   "source": [
    "nn.fit(X, y)"
   ]
  },
  {
   "cell_type": "markdown",
   "metadata": {
    "colab_type": "text",
    "id": "8b-r70o8p2Dm"
   },
   "source": [
    "## Try building/training a more complex MLP on a bigger dataset.\n",
    "\n",
    "Use the [MNIST dataset](http://yann.lecun.com/exdb/mnist/) to build the cannonical handwriting digit recognizer and see what kind of accuracy you can achieve. \n",
    "\n",
    "If you need inspiration, the internet is chalk-full of tutorials, but I want you to see how far you can get on your own first. I've linked to the original MNIST dataset above but it will probably be easier to download data through a neural network library. If you reference outside resources make sure you understand every line of code that you're using from other sources, and share with your fellow students helpful resources that you find.\n",
    "\n",
    "\n",
    "### Parts\n",
    "1. Gathering & Transforming the Data\n",
    "2. Making MNIST a Binary Problem\n",
    "3. Estimating your Neural Network (the part you focus on)"
   ]
  },
  {
   "cell_type": "markdown",
   "metadata": {},
   "source": [
    "### Gathering the Data \n",
    "\n",
    "`keras` has a handy method to pull the mnist dataset for you. You'll notice that each observation is a 28x28 arrary which represents an image. Although most Neural Network frameworks can handle higher dimensional data, that is more overhead than necessary for us. We need to flatten the image to one long row which will be 784 values (28X28). Basically, you will be appending each row to one another to make on really long row. "
   ]
  },
  {
   "cell_type": "code",
   "execution_count": 22,
   "metadata": {},
   "outputs": [],
   "source": [
    "import numpy as np\n",
    "from tensorflow.keras.datasets import mnist\n",
    "from tensorflow.keras.utils import to_categorical"
   ]
  },
  {
   "cell_type": "code",
   "execution_count": 23,
   "metadata": {},
   "outputs": [],
   "source": [
    "# input image dimensions\n",
    "img_rows, img_cols = 28, 28"
   ]
  },
  {
   "cell_type": "code",
   "execution_count": 24,
   "metadata": {},
   "outputs": [],
   "source": [
    "# the data, split between train and test sets\n",
    "(x_train, y_train), (x_test, y_test) = mnist.load_data()"
   ]
  },
  {
   "cell_type": "code",
   "execution_count": 27,
   "metadata": {},
   "outputs": [
    {
     "data": {
      "text/plain": [
       "array([5, 0, 4, ..., 5, 6, 8], dtype=uint8)"
      ]
     },
     "execution_count": 27,
     "metadata": {},
     "output_type": "execute_result"
    }
   ],
   "source": [
    "y_train"
   ]
  },
  {
   "cell_type": "code",
   "execution_count": 28,
   "metadata": {},
   "outputs": [],
   "source": [
    "x_train = x_train.reshape(x_train.shape[0], img_rows * img_cols)\n",
    "x_test = x_test.reshape(x_test.shape[0], img_rows * img_cols)\n",
    "\n",
    "# Normalize Our Data\n",
    "x_train = x_train / 255\n",
    "x_test = x_test / 255"
   ]
  },
  {
   "cell_type": "code",
   "execution_count": 29,
   "metadata": {},
   "outputs": [
    {
     "data": {
      "text/plain": [
       "(60000, 784)"
      ]
     },
     "execution_count": 29,
     "metadata": {},
     "output_type": "execute_result"
    }
   ],
   "source": [
    "# Now the data should be in a format you're more familiar with\n",
    "x_train.shape"
   ]
  },
  {
   "cell_type": "markdown",
   "metadata": {},
   "source": [
    "### Making MNIST a Binary Problem \n",
    "MNIST is multiclass classification problem; however we haven't covered all the necessary techniques to handle this yet. You would need to one-hot encode the target, use a different loss metric, and use softmax activations for the last layer. This is all stuff we'll cover later this week, but let us simply the problem for now: Zero or all else."
   ]
  },
  {
   "cell_type": "code",
   "execution_count": 30,
   "metadata": {},
   "outputs": [],
   "source": [
    "import numpy as np\n",
    "\n",
    "y_temp = np.zeros(y_train.shape)\n",
    "y_temp[np.where(y_train == 0.0)[0]] = 1\n",
    "y_train = y_temp.reshape(-1, 1)\n",
    "\n",
    "y_temp = np.zeros(y_test.shape)\n",
    "y_temp[np.where(y_test == 0.0)[0]] = 1\n",
    "y_test = y_temp.reshape(-1, 1)"
   ]
  },
  {
   "cell_type": "code",
   "execution_count": 31,
   "metadata": {},
   "outputs": [
    {
     "data": {
      "text/plain": [
       "array([[0.],\n",
       "       [1.],\n",
       "       [0.],\n",
       "       ...,\n",
       "       [0.],\n",
       "       [0.],\n",
       "       [0.]])"
      ]
     },
     "execution_count": 31,
     "metadata": {},
     "output_type": "execute_result"
    }
   ],
   "source": [
    "# A Nice Binary target for ya to work with\n",
    "y_train"
   ]
  },
  {
   "cell_type": "code",
   "execution_count": 32,
   "metadata": {},
   "outputs": [
    {
     "data": {
      "text/plain": [
       "(60000, 784)"
      ]
     },
     "execution_count": 32,
     "metadata": {},
     "output_type": "execute_result"
    }
   ],
   "source": [
    "x_train.shape"
   ]
  },
  {
   "cell_type": "markdown",
   "metadata": {},
   "source": [
    "### Estimating Your `net"
   ]
  },
  {
   "cell_type": "code",
   "execution_count": 12,
   "metadata": {},
   "outputs": [],
   "source": [
    "# https://towardsdatascience.com/building-an-artificial-neural-network-using-pure-numpy-3fe21acc5815\n",
    "\n",
    "class RelU:\n",
    "    def forward(self, inputs):\n",
    "        # TODO think about other ways to do this\n",
    "        return np.maximum(0, inputs)\n",
    "    \n",
    "    def backward(self, inputs, grad_input):\n",
    "        \n",
    "    \n",
    "class Sigmoid:\n",
    "    def forward(self, inputs):\n",
    "        return 1/(1+np.exp(-inputs)) \n",
    "    \n",
    "\n",
    "class Layer:\n",
    "    def __init__(self, input_nodes, output_nodes, activation_function='relu'):\n",
    "        self.input_nodes = input_nodes\n",
    "        self.output_nodes = output_nodes\n",
    "        self.weights = np.random.rand(\n",
    "            self.input_nodes,\n",
    "            self.output_nodes\n",
    "        ) * 0.01\n",
    "        self.bias = np.random.rand(output_nodes) * 0.01,\n",
    "        # TODO shouldn't this be a property or something?\n",
    "        self.activation_function = self.__set_activation(activation_function)\n",
    "        \n",
    "    def __set_activation(self, activation_function):\n",
    "        functions = {\n",
    "            'relu': RelU(),\n",
    "            'sigmoid': Sigmoid()\n",
    "        }\n",
    "        return functions[activation_function]\n",
    "        \n",
    "    def forward(self, inputs):\n",
    "        # TODO dot or matmul?\n",
    "        summed_activation = np.dot(inputs, self.weights) + self.bias\n",
    "        activation = self.activation_function.activate(summed_activation)\n",
    "        self.activations = activations\n",
    "        self.summed_activation = summed_activation\n",
    "    \n",
    "    def backward(self, inputs, grad_output):\n",
    "        grad_input = np.dot(grad_output, self.weights.T)\n",
    "        pass\n",
    "    \n",
    "    \n",
    "class NeuralNetwork:\n",
    "    def __init__(self, layers, learning_rate = 0.1):\n",
    "        self.learning_rate = 0.1\n",
    "        self.layers = []\n",
    "        for layer in layers:\n",
    "            self.layers.append(\n",
    "                Layer(\n",
    "                    layer['input_nodes'], \n",
    "                    layer['output_nodes'],\n",
    "                    layer['activation_function']\n",
    "                )\n",
    "            )\n",
    "    \n",
    "    def __get_weights(self):\n",
    "        weights = np.array([])\n",
    "        for layer in self.layers:\n",
    "            # TODO ravel vs flatten, speed/memory difference\n",
    "            weights = np.append([weights, layer.weights.flatten()])\n",
    "        return weights\n",
    "    \n",
    "    def __set_weights(self, weights):\n",
    "        start = 0\n",
    "        for idx, layer in enumerate(self.layers):\n",
    "            stop = (layer.input_nodes * layer.output_nodes) + start\n",
    "            layer_weights = np.reshape(weights[start:stop], \n",
    "                                       (layer.input_nodes, layer.output_nodes))\n",
    "            start = stop\n",
    "            self.layers[idx].weights = layer_weights\n",
    "                \n",
    "    \n",
    "    def cost_function(self, predicted, reference):\n",
    "        # https://towardsdatascience.com/lets-code-a-neural-network-in-plain-numpy-ae7e74410795\n",
    "        number_of_classes = predicted.shape[1]\n",
    "        cost = (-1 / number_of_classes) * (\n",
    "            np.dot(reference, np.log(predicted).T) + \n",
    "            np.dot(1 - reference, np.log(1 - predicted).T))\n",
    "        return np.squeeze(cost)\n",
    "    \n",
    "    \n",
    "    def cost_function_wrapper(self, weights, inputs, outputs):\n",
    "        self.__set_weights(weights)\n",
    "        predictions = self.predict(inputs)\n",
    "        cost = self.cost_function(predictions, outputs)\n",
    "    \n",
    "    def optimize(self, inputs, outputs):\n",
    "        weights = self.__get_weights()\n",
    "        options = {'maxiter': 200, 'disp' : True}\n",
    "        _res = optimize.minimize(\n",
    "            self.costFunctionWrapper,\n",
    "            params0, \n",
    "            jac=True, \n",
    "            method='BFGS',\n",
    "            args=(inputs, outputs), \n",
    "            options=options,\n",
    "        )\n",
    "    \n",
    "    def fit(self, train_inputs, train_outputs):\n",
    "        self.inputs = train_inputs\n",
    "        self.outputs = train_outputs\n",
    "        \n",
    "    def forward(self, inputs):\n",
    "        activations = inputs\n",
    "        for layer in self.layers:\n",
    "            activations = layer.forward(activations)\n",
    "            \n",
    "        return activations\n",
    "    \n",
    "    def backward(self):\n",
    "        pass\n",
    "    \n",
    "    def train(self, train_inputs, train_outputs):\n",
    "        # forward\n",
    "        predictions = self.forward(train_inputs)\n",
    "        cost = self.cost_function(predictions, train_outputs)\n",
    "        cost_grad = self.cost_function_gradient(predictions, train_outputs)\n",
    "        \n",
    "        # backward\n",
    "        for layer in reversed(self.layers[1:]):\n",
    "            print(layer.input_nodes)\n",
    "    \n",
    "    def predict(self, inputs):\n",
    "        return self.forward(inputs)\n",
    "        "
   ]
  },
  {
   "cell_type": "code",
   "execution_count": 20,
   "metadata": {},
   "outputs": [],
   "source": [
    "layers = [\n",
    "    {\n",
    "        'input_nodes': x_train.shape[1],\n",
    "        'output_nodes': 200,\n",
    "        'activation_function': 'relu'\n",
    "    },\n",
    "    {\n",
    "        'input_nodes': 200,\n",
    "        'output_nodes': 200,\n",
    "        'activation_function': 'relu'\n",
    "    },\n",
    "    {\n",
    "        'input_nodes': 200,\n",
    "        'output_nodes': 2,\n",
    "        'activation_function': 'sigmoid'\n",
    "    }\n",
    "]\n",
    "nn = NeuralNetwork(layers)"
   ]
  },
  {
   "cell_type": "code",
   "execution_count": 21,
   "metadata": {},
   "outputs": [
    {
     "name": "stdout",
     "output_type": "stream",
     "text": [
      "(60000, 1) [[0.63776676]\n",
      " [0.65455256]\n",
      " [0.60024926]\n",
      " ...\n",
      " [0.61231473]\n",
      " [0.60379719]\n",
      " [0.60655136]]\n"
     ]
    },
    {
     "ename": "IndexError",
     "evalue": "arrays used as indices must be of integer (or boolean) type",
     "output_type": "error",
     "traceback": [
      "\u001b[0;31m---------------------------------------------------------------------------\u001b[0m",
      "\u001b[0;31mIndexError\u001b[0m                                Traceback (most recent call last)",
      "\u001b[0;32m<ipython-input-21-9e958852ba37>\u001b[0m in \u001b[0;36m<module>\u001b[0;34m\u001b[0m\n\u001b[0;32m----> 1\u001b[0;31m \u001b[0mnn\u001b[0m\u001b[0;34m.\u001b[0m\u001b[0mtrain\u001b[0m\u001b[0;34m(\u001b[0m\u001b[0mx_train\u001b[0m\u001b[0;34m,\u001b[0m \u001b[0my_train\u001b[0m\u001b[0;34m)\u001b[0m\u001b[0;34m\u001b[0m\u001b[0;34m\u001b[0m\u001b[0m\n\u001b[0m",
      "\u001b[0;32m<ipython-input-12-761143a024b5>\u001b[0m in \u001b[0;36mtrain\u001b[0;34m(self, train_inputs, train_outputs)\u001b[0m\n\u001b[1;32m    141\u001b[0m         \u001b[0mpredictions\u001b[0m \u001b[0;34m=\u001b[0m \u001b[0mself\u001b[0m\u001b[0;34m.\u001b[0m\u001b[0mforward\u001b[0m\u001b[0;34m(\u001b[0m\u001b[0mtrain_inputs\u001b[0m\u001b[0;34m)\u001b[0m\u001b[0;34m\u001b[0m\u001b[0;34m\u001b[0m\u001b[0m\n\u001b[1;32m    142\u001b[0m         \u001b[0mprint\u001b[0m\u001b[0;34m(\u001b[0m\u001b[0mpredictions\u001b[0m\u001b[0;34m.\u001b[0m\u001b[0mshape\u001b[0m\u001b[0;34m,\u001b[0m \u001b[0mpredictions\u001b[0m\u001b[0;34m)\u001b[0m\u001b[0;34m\u001b[0m\u001b[0;34m\u001b[0m\u001b[0m\n\u001b[0;32m--> 143\u001b[0;31m         \u001b[0mcost\u001b[0m \u001b[0;34m=\u001b[0m \u001b[0mself\u001b[0m\u001b[0;34m.\u001b[0m\u001b[0mcost_function\u001b[0m\u001b[0;34m(\u001b[0m\u001b[0mpredictions\u001b[0m\u001b[0;34m,\u001b[0m \u001b[0mtrain_outputs\u001b[0m\u001b[0;34m)\u001b[0m\u001b[0;34m\u001b[0m\u001b[0;34m\u001b[0m\u001b[0m\n\u001b[0m\u001b[1;32m    144\u001b[0m         \u001b[0mcost_grad\u001b[0m \u001b[0;34m=\u001b[0m \u001b[0mself\u001b[0m\u001b[0;34m.\u001b[0m\u001b[0mcost_function_gradient\u001b[0m\u001b[0;34m(\u001b[0m\u001b[0mpredictions\u001b[0m\u001b[0;34m,\u001b[0m \u001b[0mtrain_outputs\u001b[0m\u001b[0;34m)\u001b[0m\u001b[0;34m\u001b[0m\u001b[0;34m\u001b[0m\u001b[0m\n\u001b[1;32m    145\u001b[0m \u001b[0;34m\u001b[0m\u001b[0m\n",
      "\u001b[0;32m<ipython-input-12-761143a024b5>\u001b[0m in \u001b[0;36mcost_function\u001b[0;34m(self, predicted_output, reference_output)\u001b[0m\n\u001b[1;32m     86\u001b[0m         \u001b[0;31m# softmax probability of the correct label for each sample.\u001b[0m\u001b[0;34m\u001b[0m\u001b[0;34m\u001b[0m\u001b[0;34m\u001b[0m\u001b[0m\n\u001b[1;32m     87\u001b[0m         \u001b[0;31m# Refer to https://docs.scipy.org/doc/numpy/user/basics.indexing.html#indexing-multi-dimensional-arrays for understanding multidimensional array indexing.\u001b[0m\u001b[0;34m\u001b[0m\u001b[0;34m\u001b[0m\u001b[0;34m\u001b[0m\u001b[0m\n\u001b[0;32m---> 88\u001b[0;31m         \u001b[0mlog_likelihood\u001b[0m \u001b[0;34m=\u001b[0m \u001b[0;34m-\u001b[0m\u001b[0mnp\u001b[0m\u001b[0;34m.\u001b[0m\u001b[0mlog\u001b[0m\u001b[0;34m(\u001b[0m\u001b[0mp\u001b[0m\u001b[0;34m[\u001b[0m\u001b[0mrange\u001b[0m\u001b[0;34m(\u001b[0m\u001b[0mm\u001b[0m\u001b[0;34m)\u001b[0m\u001b[0;34m,\u001b[0m\u001b[0mreference_output\u001b[0m\u001b[0;34m]\u001b[0m\u001b[0;34m)\u001b[0m\u001b[0;34m\u001b[0m\u001b[0;34m\u001b[0m\u001b[0m\n\u001b[0m\u001b[1;32m     89\u001b[0m         \u001b[0mloss\u001b[0m \u001b[0;34m=\u001b[0m \u001b[0mnp\u001b[0m\u001b[0;34m.\u001b[0m\u001b[0msum\u001b[0m\u001b[0;34m(\u001b[0m\u001b[0mlog_likelihood\u001b[0m\u001b[0;34m)\u001b[0m \u001b[0;34m/\u001b[0m \u001b[0mm\u001b[0m\u001b[0;34m\u001b[0m\u001b[0;34m\u001b[0m\u001b[0m\n\u001b[1;32m     90\u001b[0m         \u001b[0;32mreturn\u001b[0m \u001b[0mloss\u001b[0m\u001b[0;34m\u001b[0m\u001b[0;34m\u001b[0m\u001b[0m\n",
      "\u001b[0;31mIndexError\u001b[0m: arrays used as indices must be of integer (or boolean) type"
     ]
    }
   ],
   "source": [
    "nn.train(x_train, y_train)"
   ]
  },
  {
   "cell_type": "markdown",
   "metadata": {
    "colab_type": "text",
    "id": "FwlRJSfBlCvy"
   },
   "source": [
    "## Stretch Goals: \n",
    "\n",
    "- Make MNIST a multiclass problem using cross entropy & soft-max\n",
    "- Implement Cross Validation model evaluation on your MNIST implementation \n",
    "- Research different [Gradient Descent Based Optimizers](https://keras.io/optimizers/)\n",
    " - [Siraj Raval the evolution of gradient descent](https://www.youtube.com/watch?v=nhqo0u1a6fw)\n",
    "- Build a housing price estimation model using a neural network. How does its accuracy compare with the regression models that we fit earlier on in class?"
   ]
  }
 ],
 "metadata": {
  "colab": {
   "name": "LS_DS_432_Backprop_Assignment.ipynb",
   "provenance": [],
   "version": "0.3.2"
  },
  "kernelspec": {
   "display_name": "lambda",
   "language": "python",
   "name": "lambda"
  },
  "language_info": {
   "codemirror_mode": {
    "name": "ipython",
    "version": 3
   },
   "file_extension": ".py",
   "mimetype": "text/x-python",
   "name": "python",
   "nbconvert_exporter": "python",
   "pygments_lexer": "ipython3",
   "version": "3.7.5"
  }
 },
 "nbformat": 4,
 "nbformat_minor": 4
}
